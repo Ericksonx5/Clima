{
  "nbformat": 4,
  "nbformat_minor": 0,
  "metadata": {
    "colab": {
      "provenance": [],
      "authorship_tag": "ABX9TyOATYl/qq2lwMCJCzVnUX+A",
      "include_colab_link": true
    },
    "kernelspec": {
      "name": "python3",
      "display_name": "Python 3"
    },
    "language_info": {
      "name": "python"
    }
  },
  "cells": [
    {
      "cell_type": "markdown",
      "metadata": {
        "id": "view-in-github",
        "colab_type": "text"
      },
      "source": [
        "<a href=\"https://colab.research.google.com/github/Ericksonx5/Clima/blob/main/Clima.ipynb\" target=\"_parent\"><img src=\"https://colab.research.google.com/assets/colab-badge.svg\" alt=\"Open In Colab\"/></a>"
      ]
    },
    {
      "cell_type": "code",
      "execution_count": null,
      "metadata": {
        "id": "6S7dvyUmCIyI"
      },
      "outputs": [],
      "source": [
        "import requests\n",
        "\n",
        "city = input(\"Ingrese Un Lugar: \")\n",
        "url = f\"https://es.wttr.in/{city}\"\n",
        "\n",
        "\n",
        "res = requests.get(url)\n",
        "print(res.text)"
      ]
    }
  ]
}